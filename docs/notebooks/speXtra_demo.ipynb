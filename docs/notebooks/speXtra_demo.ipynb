{
 "cells": [
  {
   "cell_type": "markdown",
   "metadata": {},
   "source": [
    "# Basics\n",
    "\n",
    "\n"
   ]
  },
  {
   "cell_type": "code",
   "execution_count": null,
   "metadata": {},
   "outputs": [],
   "source": [
    "import numpy as np\n",
    "import matplotlib.pyplot as plt\n",
    "import astropy.units as u\n",
    "from astropy.utils.data import clear_download_cache\n",
    "clear_download_cache()\n",
    "\n",
    "from spextra import Spextrum, spextra_database, SpecLibrary, FilterSystem"
   ]
  },
  {
   "cell_type": "markdown",
   "metadata": {},
   "source": [
    "## Examining the database"
   ]
  },
  {
   "cell_type": "code",
   "execution_count": null,
   "metadata": {},
   "outputs": [],
   "source": [
    "sdb = spextra_database"
   ]
  },
  {
   "cell_type": "markdown",
   "metadata": {},
   "source": [
    "### Information of the database"
   ]
  },
  {
   "cell_type": "code",
   "execution_count": null,
   "metadata": {},
   "outputs": [],
   "source": [
    "print(sdb)"
   ]
  },
  {
   "cell_type": "code",
   "execution_count": null,
   "metadata": {},
   "outputs": [],
   "source": [
    "# Which templates are available?\n",
    "\n",
    "print(SpecLibrary(\"sne\"))"
   ]
  },
  {
   "cell_type": "markdown",
   "metadata": {},
   "source": [
    "### Extinction curves and Filters"
   ]
  },
  {
   "cell_type": "code",
   "execution_count": null,
   "metadata": {},
   "outputs": [],
   "source": [
    "print(sdb[\"extinction_curves\"])\n",
    "print(sdb[\"filter_systems\"])"
   ]
  },
  {
   "cell_type": "code",
   "execution_count": null,
   "metadata": {},
   "outputs": [],
   "source": [
    "print(FilterSystem(\"micado\"))"
   ]
  },
  {
   "cell_type": "markdown",
   "metadata": {},
   "source": [
    "## Retrieving the spectra"
   ]
  },
  {
   "cell_type": "code",
   "execution_count": null,
   "metadata": {},
   "outputs": [],
   "source": [
    "sp1 = Spextrum(\"kc96/s0\")\n",
    "sp1.plot()"
   ]
  },
  {
   "cell_type": "code",
   "execution_count": null,
   "metadata": {},
   "outputs": [],
   "source": [
    "# another spectrum\n",
    "\n",
    "sp2 = Spextrum(\"agn/qso\")\n",
    "sp2.plot()"
   ]
  },
  {
   "cell_type": "markdown",
   "metadata": {},
   "source": [
    "### Aritmetics\n",
    "\n",
    "simple arithmetics are possible\n"
   ]
  },
  {
   "cell_type": "code",
   "execution_count": null,
   "metadata": {},
   "outputs": [],
   "source": [
    "sp = sp1 + 3*sp2\n",
    "\n",
    "sp.plot()"
   ]
  },
  {
   "cell_type": "markdown",
   "metadata": {},
   "source": [
    "### Adding emission lines\n",
    "\n",
    "It is possible to add emission lines, either individually or as a list. Parameters are center, flux and fwhm\n"
   ]
  },
  {
   "cell_type": "code",
   "execution_count": null,
   "metadata": {},
   "outputs": [],
   "source": [
    "sp3 = sp1.add_emi_lines(center=4000,flux=4e-13, fwhm=5*u.AA)\n",
    "sp3.plot(left=3500, right=4500)"
   ]
  },
  {
   "cell_type": "markdown",
   "metadata": {},
   "source": [
    "### Redshifting spectra\n"
   ]
  },
  {
   "cell_type": "code",
   "execution_count": null,
   "metadata": {},
   "outputs": [],
   "source": [
    "\n",
    "fig = plt.figure(figsize=(10,7))\n",
    "sp4 = sp2.redshift(z=1)\n",
    "\n",
    "wave = sp2.waveset\n",
    "flux = sp2(wave, flux_unit=\"FLAM\")\n",
    "\n",
    "plt.plot(wave, flux)\n",
    "\n",
    "plt.plot(sp4.waveset, \n",
    "         sp4(sp4.waveset, flux_unit=\"FLAM\"))\n",
    "\n",
    "plt.legend(['z=0', 'z=1'], loc='upper right')"
   ]
  },
  {
   "cell_type": "markdown",
   "metadata": {},
   "source": [
    "### Or using velocity"
   ]
  },
  {
   "cell_type": "code",
   "execution_count": null,
   "metadata": {},
   "outputs": [],
   "source": [
    "fig = plt.figure(figsize=(10,6))\n",
    "\n",
    "sp1 = Spextrum(\"nebulae/orion\")\n",
    "\n",
    "vel = -1000 * u.km / u.s\n",
    "sp2 = sp1.redshift(vel=vel)\n",
    "\n",
    "plt.plot(sp1.waveset, \n",
    "         sp1(sp1.waveset, flux_unit=\"FLAM\"))\n",
    "plt.plot(sp2.waveset, \n",
    "         sp2(sp2.waveset, flux_unit=\"FLAM\"))\n",
    "plt.legend(['vel=0', 'vel=-1000 km/s'], loc='upper right')\n",
    "plt.xlim(3000,5000)"
   ]
  },
  {
   "cell_type": "markdown",
   "metadata": {},
   "source": [
    "### Flat spectrum in any photometric system\n",
    "\n",
    "(aka reference spectrum if mag=0)"
   ]
  },
  {
   "cell_type": "code",
   "execution_count": null,
   "metadata": {},
   "outputs": [],
   "source": [
    "sp_vega = Spextrum.flat_spectrum(10*u.mag)\n",
    "sp_ab = Spextrum.flat_spectrum(10*u.ABmag)\n",
    "sp_st = Spextrum.flat_spectrum(10*u.STmag)\n",
    "\n",
    "\n",
    "fig = plt.figure(figsize=(10,7))\n",
    "wave = sp_vega.waveset\n",
    "plt.plot(wave, sp_vega(wave, flux_unit=\"FLAM\"), label=\"Vega\")\n",
    "plt.plot(wave, sp_ab(wave, flux_unit=\"FLAM\"), label=\"AB\")\n",
    "plt.plot(wave, sp_st(wave, flux_unit=\"FLAM\"), label=\"ST\")\n",
    "\n",
    "plt.xlim(3000,1e4)\n",
    "plt.ylim(0,0.2e-11)\n",
    "plt.xlabel(\"wavelength\")\n",
    "plt.ylabel(\"flux (FLAM)\")\n",
    "plt.legend()"
   ]
  },
  {
   "cell_type": "markdown",
   "metadata": {},
   "source": [
    "### Scaling to a magnitude"
   ]
  },
  {
   "cell_type": "code",
   "execution_count": null,
   "metadata": {},
   "outputs": [],
   "source": [
    "sp1 = Spextrum(\"kc96/s0\").scale_to_magnitude(amplitude=13 * u.ABmag, filter_curve=\"g\")\n",
    "sp2 = sp1.scale_to_magnitude(amplitude=15 * u.ABmag, filter_curve=\"g\")\n",
    "\n",
    "sig = plt.figure(figsize=(10,7))\n",
    "plt.plot(sp1.waveset, \n",
    "         sp1(sp1.waveset, flux_unit=\"FLAM\"))\n",
    "plt.plot(sp2.waveset, \n",
    "         sp2(sp2.waveset, flux_unit=\"FLAM\"))\n",
    "plt.legend(['mag=13', 'mag=15'], loc='upper right')\n",
    "plt.xlim(4000,7000)"
   ]
  },
  {
   "cell_type": "markdown",
   "metadata": {},
   "source": [
    "### Obtaining magnitudes from spectra"
   ]
  },
  {
   "cell_type": "code",
   "execution_count": null,
   "metadata": {},
   "outputs": [],
   "source": [
    "print(\"Magnitude spectra 1:\", sp1.get_magnitude(filter_curve=\"g\"), \n",
    "      sp1.get_magnitude(filter_curve=\"g\", system_name=\"Vega\"), \"Vega\")\n",
    "print(\"Magnitude spectra 2:\", sp2.get_magnitude(filter_curve=\"g\"), \n",
    "      sp2.get_magnitude(filter_curve=\"g\", system_name=\"Vega\"), \"Vega\")"
   ]
  },
  {
   "cell_type": "markdown",
   "metadata": {},
   "source": [
    "### Rebin spectra\n",
    "\n",
    "a new wavelength array must be passed"
   ]
  },
  {
   "cell_type": "code",
   "execution_count": null,
   "metadata": {},
   "outputs": [],
   "source": [
    "sp1 = Spextrum(\"agn/qso\")\n",
    "new_waves = np.linspace(np.min(sp1.waveset),\n",
    "                        np.max(sp1.waveset),\n",
    "                        100)\n",
    "sp2 = sp1.rebin_spectra(new_waves=new_waves)\n",
    "\n",
    "sig = plt.figure(figsize=(10,7))\n",
    "plt.plot(sp1.waveset, \n",
    "         sp1(sp1.waveset, flux_unit=\"FLAM\"))\n",
    "plt.plot(sp2.waveset, \n",
    "         sp2(sp2.waveset, flux_unit=\"FLAM\"))\n",
    "plt.xlim(1000,4000)"
   ]
  },
  {
   "cell_type": "markdown",
   "metadata": {},
   "source": [
    "### Smooth the spectral with a velocity kernel"
   ]
  },
  {
   "cell_type": "code",
   "execution_count": null,
   "metadata": {},
   "outputs": [],
   "source": [
    "sp1 = Spextrum(\"nebulae/pn\")\n",
    "\n",
    "sigma = 500*(u.km / u.s)\n",
    "sp2 = sp1.smooth(sigma=sigma)\n",
    "\n",
    "fig = plt.figure(figsize=(10,7))\n",
    "plt.plot(sp1.waveset, \n",
    "         sp1(sp1.waveset, flux_unit=\"FLAM\"), label=\"original\")\n",
    "plt.plot(sp2.waveset, \n",
    "         sp2(sp2.waveset, flux_unit=\"FLAM\"), label=\"broadened with 500 km/s\")\n",
    "\n",
    "plt.xlim(4800,5200)\n",
    "plt.legend()"
   ]
  },
  {
   "cell_type": "markdown",
   "metadata": {},
   "source": [
    "### Blackbody spectrum and extinction curves\n",
    "\n",
    "\n"
   ]
  },
  {
   "cell_type": "code",
   "execution_count": null,
   "metadata": {},
   "outputs": [],
   "source": [
    "sp1 = Spextrum.black_body_spectrum(temperature=5500, \n",
    "                                   amplitude=10 * u.ABmag, \n",
    "                                   filter_curve=\"r\")\n",
    "sp2 = sp1.redden(\"gordon/smc_bar\", Ebv=0.15)\n",
    "\n",
    "\n",
    "fig = plt.figure(figsize=(10,7))\n",
    "plt.plot(sp1.waveset, \n",
    "         sp1(sp1.waveset, flux_unit=\"FLAM\"), label=\"original\")\n",
    "plt.plot(sp2.waveset, \n",
    "         sp2(sp2.waveset, flux_unit=\"FLAM\"), label=\"attenuated\")\n",
    "\n",
    "plt.xlim(1800,15200)\n",
    "plt.legend()\n"
   ]
  },
  {
   "cell_type": "markdown",
   "metadata": {},
   "source": [
    "### Photons within a filter \n",
    "\n",
    "(or between wmin or wmax)"
   ]
  },
  {
   "cell_type": "code",
   "execution_count": null,
   "metadata": {},
   "outputs": [],
   "source": [
    "n_photons = sp2.photons_in_range(area=2*u.m**2,\n",
    "                                 filter_curve=\"V\")\n",
    "\n",
    "print(n_photons)"
   ]
  },
  {
   "cell_type": "code",
   "execution_count": null,
   "metadata": {},
   "outputs": [],
   "source": []
  }
 ],
 "metadata": {
  "kernelspec": {
   "display_name": "Python 3 (ipykernel)",
   "language": "python",
   "name": "python3"
  },
  "language_info": {
   "codemirror_mode": {
    "name": "ipython",
    "version": 3
   },
   "file_extension": ".py",
   "mimetype": "text/x-python",
   "name": "python",
   "nbconvert_exporter": "python",
   "pygments_lexer": "ipython3",
   "version": "3.9.16"
  }
 },
 "nbformat": 4,
 "nbformat_minor": 4
}

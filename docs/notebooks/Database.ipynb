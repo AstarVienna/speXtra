{
 "cells": [
  {
   "cell_type": "markdown",
   "metadata": {},
   "source": [
    "# Database\n",
    "\n",
    "`speXtra` come with a in-built database of spectral libraries, astronomical filters and extinction curves. The database is constinously growing and we are happy to include additional data that can be useful for your research\n",
    "\n",
    "The database organized through `yaml` files which describe the contents of the different data files.\n",
    "\n",
    "The inner workings of the database are transparent to the user and generally the user does not\n",
    "need to deal with the database when working with `speXtra`.\n",
    "\n",
    "There are however few things that might be useful to the user, specially when working in interactive mode\n",
    "(e.g. Jupyter Notebooks)\n",
    "\n",
    "The database is organized within a directory tree. Depending on what you are requesting, a spectra template,\n",
    "a extinction curve or a filter, it will look for it at that particular place. The syntax is standard:\n",
    "\n",
    "- `\"library_name/template_name\"` for a spectral template\n",
    "- `\"extinction_curve_family/extinction_curve_name\"` for extinction curves\n",
    "- `\"filter_system/filter_name\"` for astronomical filters\n",
    "\n",
    "Below you can find the contents of the database"
   ]
  },
  {
   "cell_type": "markdown",
   "metadata": {},
   "source": [
    "## Browsing the Database"
   ]
  },
  {
   "cell_type": "code",
   "execution_count": 1,
   "metadata": {},
   "outputs": [
    {
     "name": "stdout",
     "output_type": "stream",
     "text": [
      " Database: \n",
      " url: https://homepage.univie.ac.at/miguel.verdugo/database/ \n",
      " path: /home/mverdugo/.astropy/cache/spextra \n"
     ]
    }
   ],
   "source": [
    "from spextra import Database\n",
    "\n",
    "db = Database()\n",
    "\n",
    "print(db) "
   ]
  },
  {
   "cell_type": "markdown",
   "metadata": {},
   "source": [
    "The last will print basic information regarding local and distant storage\n",
    "\n",
    "We can also obtain a good summary of the contents of the database with"
   ]
  },
  {
   "cell_type": "code",
   "execution_count": 2,
   "metadata": {},
   "outputs": [
    {
     "name": "stdout",
     "output_type": "stream",
     "text": [
      "libraries:\n",
      "    ref: A library of reference stars\n",
      "    kc96: Kinney-Calzetti Atlas\n",
      "    pickles: Pickles Stellar Library\n",
      "    dobos: SDSS galaxy composite spectra\n",
      "    irtf: IRTF spectral library\n",
      "    agn: AGN templates\n",
      "    nebulae: Emission line nebulae\n",
      "    brown: Galaxy SEDs from the UV to the Mid-IR\n",
      "    kurucz: Subset of Kurucz 1993 Models\n",
      "    sne: Supernova Legacy Survey\n",
      "    moehler: flux/telluric standards with X-Shooter\n",
      "    madden: High-Resolution Spectra of Habitable Zone Planets\n",
      "    bosz/hr: BOSZ stellar atmosphere Grid - High Resolution\n",
      "    bosz/mr: BOSZ stellar atmosphere Grid - Medium Resolution\n",
      "    bosz/lr: BOSZ stellar atmosphere Grid - Low Resolution\n",
      "    assef: Low-resolution spectral templates for AGN and galaxies\n",
      "    sky: Paranal sky background spectra\n",
      "    shapley: \"Rest-Frame Ultraviolet Spectra of z \\u223C 3 Lyman Break Galaxies\"\n",
      "    etc/kinney: ESO ETC version of the Kinney-Calzetti Atlas\n",
      "    etc/kurucz: ESO ETC subset of the Kurucz 1993 models\n",
      "    etc/marcs/p: ESO ETC subset of the MARCS Stellar Models with Plane Parallel Geometry\n",
      "    etc/marcs/s: ESO ETC subset of the MARCS Stellar Models with Spherical Geometry\n",
      "    etc/misc: Other templates, nubulae and qso\n",
      "    etc/pickles: ESO ETC subset of the Pickles stellar library\n",
      "extinction_curves:\n",
      "    gordon: LMC and SMC extinction laws\n",
      "    cardelli: MW extinction laws\n",
      "    calzetti: extragalactic attenuation curves\n",
      "filter_systems:\n",
      "    elt/micado: MICADO filters\n",
      "    elt/metis: METIS filters\n",
      "    etc: ESO ETC standard filters\n",
      "\n"
     ]
    }
   ],
   "source": [
    "db.dump()"
   ]
  },
  {
   "cell_type": "markdown",
   "metadata": {},
   "source": [
    "To list all available libraries we can also use:"
   ]
  },
  {
   "cell_type": "code",
   "execution_count": 3,
   "metadata": {},
   "outputs": [
    {
     "data": {
      "text/plain": [
       "{'ref': 'A library of reference stars',\n",
       " 'kc96': 'Kinney-Calzetti Atlas',\n",
       " 'pickles': 'Pickles Stellar Library',\n",
       " 'dobos': 'SDSS galaxy composite spectra',\n",
       " 'irtf': 'IRTF spectral library',\n",
       " 'agn': 'AGN templates',\n",
       " 'nebulae': 'Emission line nebulae',\n",
       " 'brown': 'Galaxy SEDs from the UV to the Mid-IR',\n",
       " 'kurucz': 'Subset of Kurucz 1993 Models',\n",
       " 'sne': 'Supernova Legacy Survey',\n",
       " 'moehler': 'flux/telluric standards with X-Shooter',\n",
       " 'madden': 'High-Resolution Spectra of Habitable Zone Planets',\n",
       " 'bosz/hr': 'BOSZ stellar atmosphere Grid - High Resolution',\n",
       " 'bosz/mr': 'BOSZ stellar atmosphere Grid - Medium Resolution',\n",
       " 'bosz/lr': 'BOSZ stellar atmosphere Grid - Low Resolution',\n",
       " 'assef': 'Low-resolution spectral templates for AGN and galaxies',\n",
       " 'sky': 'Paranal sky background spectra',\n",
       " 'shapley': 'Rest-Frame Ultraviolet Spectra of z ∼ 3 Lyman Break Galaxies',\n",
       " 'etc/kinney': 'ESO ETC version of the Kinney-Calzetti Atlas',\n",
       " 'etc/kurucz': 'ESO ETC subset of the Kurucz 1993 models',\n",
       " 'etc/marcs/p': 'ESO ETC subset of the MARCS Stellar Models with Plane Parallel Geometry',\n",
       " 'etc/marcs/s': 'ESO ETC subset of the MARCS Stellar Models with Spherical Geometry',\n",
       " 'etc/misc': 'Other templates, nubulae and qso',\n",
       " 'etc/pickles': 'ESO ETC subset of the Pickles stellar library'}"
      ]
     },
     "execution_count": 3,
     "metadata": {},
     "output_type": "execute_result"
    }
   ],
   "source": [
    "db.libraries"
   ]
  },
  {
   "cell_type": "markdown",
   "metadata": {},
   "source": [
    "which also works for `db.filter_systems` and `db.extinction_curves` which will print the extinction curves and filter systems available\n",
    "\n",
    "---\n",
    "\n",
    "The class `SpecLibrary` and its equivalents `FilterSystem` and `ExtinctionCurve` hold the information regarding a particular library\n"
   ]
  },
  {
   "cell_type": "code",
   "execution_count": 4,
   "metadata": {},
   "outputs": [
    {
     "data": {
      "text/plain": [
       " Spectral Library: ref Reference library for objects \n",
       " spectral coverage: ['uv', 'vis', 'nir', 'mir'] \n",
       " wave_unit: Angstrom  flux_unit: FLAM \n",
       " Templates: ['vega', 'vegaLR', 'sirius', 'sun', 'sunHR']"
      ]
     },
     "execution_count": 4,
     "metadata": {},
     "output_type": "execute_result"
    }
   ],
   "source": [
    "from spextra.database import SpecLibrary, FilterSystem, ExtCurvesLibrary\n",
    "\n",
    "lib = SpecLibrary(\"ref\")\n",
    "\n",
    "lib"
   ]
  },
  {
   "cell_type": "markdown",
   "metadata": {},
   "source": [
    "and basic information about the library will be printed"
   ]
  },
  {
   "cell_type": "markdown",
   "metadata": {},
   "source": [
    "Whilst more complete information can be printed using the following command"
   ]
  },
  {
   "cell_type": "code",
   "execution_count": 5,
   "metadata": {},
   "outputs": [
    {
     "name": "stdout",
     "output_type": "stream",
     "text": [
      "library_name: ref\n",
      "type: stars\n",
      "title: Reference library for objects\n",
      "summary: 'This library collects few objects than an be used as reference for calculations\n",
      "\n",
      "    '\n",
      "reference: see CALSPEC\n",
      "link: https://www.stsci.edu/hst/instrumentation/reference-data-for-calibration-and-tools/astronomical-catalogs/calspec\n",
      "spectral_coverage:\n",
      "- uv\n",
      "- vis\n",
      "- nir\n",
      "- mir\n",
      "resolution: 10\n",
      "wave_unit: Angstrom\n",
      "flux_unit: FLAM\n",
      "wave_column_name: WAVELENGTH\n",
      "flux_column_name: FLUX\n",
      "data_type: fits\n",
      "file_extension: .fits\n",
      "templates:\n",
      "    vega: Vega spectrum, 900A to 300um\n",
      "    vegaLR: Vega LR spectrum, 1148A to 2.6um\n",
      "    sirius: Sirius spectrum, 900A to 300um\n",
      "    sun: Solar spectrum,  1195A to 2.7um\n",
      "    sunHR: Solar HR spectrum, 1500A to 300um\n",
      "\n"
     ]
    }
   ],
   "source": [
    "lib.dump()"
   ]
  },
  {
   "cell_type": "markdown",
   "metadata": {},
   "source": [
    "If you are only interested in the template names, just use"
   ]
  },
  {
   "cell_type": "code",
   "execution_count": 6,
   "metadata": {},
   "outputs": [
    {
     "data": {
      "text/plain": [
       "['vega', 'vegaLR', 'sirius', 'sun', 'sunHR']"
      ]
     },
     "execution_count": 6,
     "metadata": {},
     "output_type": "execute_result"
    }
   ],
   "source": [
    "lib.template_names"
   ]
  },
  {
   "cell_type": "markdown",
   "metadata": {},
   "source": [
    "Finally to obtain one of these templates just call `Spextrum`"
   ]
  },
  {
   "cell_type": "code",
   "execution_count": 7,
   "metadata": {},
   "outputs": [],
   "source": [
    "from spextra import Spextrum"
   ]
  },
  {
   "cell_type": "code",
   "execution_count": 8,
   "metadata": {},
   "outputs": [
    {
     "name": "stdout",
     "output_type": "stream",
     "text": [
      "updating/loading 'libraries/ref/sun.fits'\n",
      "Downloading https://homepage.univie.ac.at/miguel.verdugo/database/libraries/ref/sun.fits [Done]\n"
     ]
    }
   ],
   "source": [
    "sp = Spextrum(\"ref/sun\")"
   ]
  },
  {
   "cell_type": "code",
   "execution_count": 9,
   "metadata": {},
   "outputs": [
    {
     "data": {
      "image/png": "[encoded data removed]",
      "text/plain": [
       "<Figure size 432x288 with 1 Axes>"
      ]
     },
     "metadata": {
      "needs_background": "light"
     },
     "output_type": "display_data"
    }
   ],
   "source": [
    "sp.plot()"
   ]
  },
  {
   "cell_type": "markdown",
   "metadata": {},
   "source": [
    "to update the database (or a library) so your local copy contain the last additions please use"
   ]
  },
  {
   "cell_type": "code",
   "execution_count": 10,
   "metadata": {},
   "outputs": [
    {
     "name": "stdout",
     "output_type": "stream",
     "text": [
      "updating/loading 'index.yml'\n",
      "Downloading https://homepage.univie.ac.at/miguel.verdugo/database/index.yml [Done]\n",
      "updating/loading 'libraries/ref/index.yml'\n",
      "Downloading https://homepage.univie.ac.at/miguel.verdugo/database/libraries/ref/index.yml [Done]\n"
     ]
    }
   ],
   "source": [
    "db.update()\n",
    "lib.update()"
   ]
  },
  {
   "cell_type": "markdown",
   "metadata": {},
   "source": [
    "to remove the whole database (or a library)"
   ]
  },
  {
   "cell_type": "code",
   "execution_count": 11,
   "metadata": {},
   "outputs": [
    {
     "name": "stdout",
     "output_type": "stream",
     "text": [
      "database at /home/mverdugo/.astropy/cache/spextra removed\n"
     ]
    }
   ],
   "source": [
    "db.remove_database()"
   ]
  },
  {
   "cell_type": "markdown",
   "metadata": {},
   "source": [
    "The database will be recreated next time you call it!"
   ]
  }
 ],
 "metadata": {
  "kernelspec": {
   "display_name": "Python 3 (ipykernel)",
   "language": "python",
   "name": "python3"
  },
  "language_info": {
   "codemirror_mode": {
    "name": "ipython",
    "version": 3
   },
   "file_extension": ".py",
   "mimetype": "text/x-python",
   "name": "python",
   "nbconvert_exporter": "python",
   "pygments_lexer": "ipython3",
   "version": "3.9.7"
  }
 },
 "nbformat": 4,
 "nbformat_minor": 4
}

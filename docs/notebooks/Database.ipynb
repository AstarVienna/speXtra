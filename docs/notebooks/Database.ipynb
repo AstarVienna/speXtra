{
 "cells": [
  {
   "cell_type": "markdown",
   "metadata": {},
   "source": [
    "# Database\n",
    "\n",
    "`speXtra` come with a in-built database of spectral libraries, astronomical filters and extinction curves. The database is constinously growing and we are happy to include additional data that can be useful for your research\n",
    "\n",
    "The database organized through `yaml` files which describe the contents of the different data files.\n",
    "\n",
    "The inner workings of the database are transparent to the user and generally the user does not\n",
    "need to deal with the database when working with `speXtra`.\n",
    "\n",
    "There are however few things that might be useful to the user, specially when working in interactive mode\n",
    "(e.g. Jupyter Notebooks)\n",
    "\n",
    "The database is organized within a directory tree. Depending on what you are requesting, a spectra template,\n",
    "a extinction curve or a filter, it will look for it at that particular place. The syntax is standard:\n",
    "\n",
    "- `\"library_name/template_name\"` for a spectral template\n",
    "- `\"extinction_curve_family/extinction_curve_name\"` for extinction curves\n",
    "- `\"filter_system/filter_name\"` for astronomical filters\n",
    "\n",
    "Below you can find the contents of the database"
   ]
  },
  {
   "cell_type": "markdown",
   "metadata": {},
   "source": [
    "## Browsing the Database"
   ]
  },
  {
   "cell_type": "code",
   "execution_count": null,
   "metadata": {},
   "outputs": [],
   "source": [
    "from spextra import spextra_database as db\n",
    "\n",
    "print(db) "
   ]
  },
  {
   "cell_type": "markdown",
   "metadata": {},
   "source": [
    "The last will print basic information regarding local and distant storage."
   ]
  },
  {
   "cell_type": "markdown",
   "metadata": {},
   "source": [
    "To list all available libraries we can also use:"
   ]
  },
  {
   "cell_type": "code",
   "execution_count": null,
   "metadata": {},
   "outputs": [],
   "source": [
    "db[\"libraries\"]"
   ]
  },
  {
   "cell_type": "markdown",
   "metadata": {},
   "source": [
    "which also works for `db[\"filter_systems\"]` and `db[\"extinction_curves\"]` which will print the extinction curves and filter systems available\n",
    "\n",
    "---\n",
    "\n",
    "The class `SpecLibrary` and its equivalents `FilterSystem` and `ExtinctionCurve` hold the information regarding a particular library\n"
   ]
  },
  {
   "cell_type": "code",
   "execution_count": null,
   "metadata": {},
   "outputs": [],
   "source": [
    "from spextra import SpecLibrary, FilterSystem, ExtCurvesLibrary\n",
    "\n",
    "lib = SpecLibrary(\"ref\")\n",
    "\n",
    "print(lib)"
   ]
  },
  {
   "cell_type": "markdown",
   "metadata": {},
   "source": [
    "and basic information about the library will be printed"
   ]
  },
  {
   "cell_type": "markdown",
   "metadata": {},
   "source": [
    "If you are only interested in the template names, just use"
   ]
  },
  {
   "cell_type": "code",
   "execution_count": null,
   "metadata": {},
   "outputs": [],
   "source": [
    "list(lib)"
   ]
  },
  {
   "cell_type": "markdown",
   "metadata": {},
   "source": [
    "Finally to obtain one of these templates just call `Spextrum`"
   ]
  },
  {
   "cell_type": "code",
   "execution_count": null,
   "metadata": {},
   "outputs": [],
   "source": [
    "from spextra import Spextrum"
   ]
  },
  {
   "cell_type": "code",
   "execution_count": null,
   "metadata": {},
   "outputs": [],
   "source": [
    "sp = Spextrum(\"ref/sun\")"
   ]
  },
  {
   "cell_type": "code",
   "execution_count": null,
   "metadata": {},
   "outputs": [],
   "source": [
    "sp.plot()"
   ]
  },
  {
   "cell_type": "code",
   "execution_count": null,
   "metadata": {},
   "outputs": [],
   "source": []
  }
 ],
 "metadata": {
  "kernelspec": {
   "display_name": "Python 3 (ipykernel)",
   "language": "python",
   "name": "python3"
  },
  "language_info": {
   "codemirror_mode": {
    "name": "ipython",
    "version": 3
   },
   "file_extension": ".py",
   "mimetype": "text/x-python",
   "name": "python",
   "nbconvert_exporter": "python",
   "pygments_lexer": "ipython3",
   "version": "3.9.16"
  }
 },
 "nbformat": 4,
 "nbformat_minor": 4
}
